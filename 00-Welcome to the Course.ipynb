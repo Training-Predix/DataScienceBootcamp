{
 "cells": [
  {
   "cell_type": "markdown",
   "metadata": {},
   "source": [
    "___\n",
    "\n",
    "<a href='https://www.predix.io/resources/training'> <img src='gelogo.png' width=100 height=100/></a>\n",
    "___\n",
    "# Welcome to the Course \n",
    "\n",
    "This is the repository for the course: **Python for Data Science and Machine Learning Bootcamp**\n",
    "\n",
    "Thank you so much for enrolling in the course!\n",
    "\n",
    "## Overview of this Repository\n",
    "\n",
    "This repository contains everything you need for the course, it has all the notebooks, links\n",
    "\n",
    "## Before you start: Start loading some tools\n",
    "\n",
    "### Open The Online Version of day 1:\n",
    "RIGHT NOW: Click this URL: https://mybinder.org/v2/gh/teachermanalex/dsb2.git/master .  \n",
    "This page may take a few minutes load, so open a new tab in your browser with this URL.  We will let it load while you continue.\n",
    "\n",
    "### Download and Install Anaconda\n",
    "Next, we will download the Anaconda distribution of Python.  Anaconda is one of the most popular Python distributions.  It has all the tools that we need to do Data Science in Python.\n",
    "IT IS BIG (~600MB)!  It will take some time to download - maybe as much as an hour, depending on your internet speed.  So, start this download now:\n",
    "\n",
    "https://www.anaconda.com/download/  \n",
    "#### NOTE: Choose version 3 of Anaconda (current version of 3.7)  \n",
    "We will install this during a break.\n",
    "\n",
    "### Clone the Code Repo from Github\n",
    "If you have git installed, execute the following to install the notebooks:  \n",
    "```console\n",
    "git clone https://github.com/Training-Predix/DataScienceBootcamp.git\n",
    "```\n",
    "#### If you do not have git installed:\n",
    "Send me a message with your email address and I will send you a Zip with the files\n"
   ]
  },
  {
   "cell_type": "raw",
   "metadata": {},
   "source": []
  }
 ],
 "metadata": {
  "kernelspec": {
   "display_name": "Python 3",
   "language": "python",
   "name": "python3"
  },
  "language_info": {
   "codemirror_mode": {
    "name": "ipython",
    "version": 3
   },
   "file_extension": ".py",
   "mimetype": "text/x-python",
   "name": "python",
   "nbconvert_exporter": "python",
   "pygments_lexer": "ipython3",
   "version": "3.7.0"
  }
 },
 "nbformat": 4,
 "nbformat_minor": 1
}
